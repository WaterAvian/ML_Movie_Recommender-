{
  "nbformat": 4,
  "nbformat_minor": 0,
  "metadata": {
    "colab": {
      "provenance": []
    },
    "kernelspec": {
      "name": "python3",
      "display_name": "Python 3"
    },
    "language_info": {
      "name": "python"
    }
  },
  "cells": [
    {
      "cell_type": "markdown",
      "source": [
        "# ML Movie Recommendation System using sklearn"
      ],
      "metadata": {
        "id": "23h3prjskVV4"
      }
    },
    {
      "cell_type": "code",
      "execution_count": null,
      "metadata": {
        "id": "Qh3jPmPQKUkT"
      },
      "outputs": [],
      "source": [
        "import pandas as pd\n",
        "from sklearn.feature_extraction.text import CountVectorizer\n",
        "from sklearn.metrics.pairwise import cosine_similarity"
      ]
    },
    {
      "cell_type": "markdown",
      "source": [
        "Data is comprised of the top 10k rated TMDB movies"
      ],
      "metadata": {
        "id": "eyIWo5vnk3Y3"
      }
    },
    {
      "cell_type": "code",
      "source": [
        "data =  pd.read_csv('/content/drive/MyDrive/Colab Notebooks/top10K-TMDB-movies.csv')"
      ],
      "metadata": {
        "id": "RM51y00vKn5v"
      },
      "execution_count": null,
      "outputs": []
    },
    {
      "cell_type": "code",
      "source": [
        "data = data[['id', 'title', 'overview', 'genre']]\n",
        "data['tags'] = data['overview']\n",
        "data = data.drop(columns=['overview'])"
      ],
      "metadata": {
        "id": "Lot2Nvhzc5rc",
        "collapsed": true,
        "colab": {
          "base_uri": "https://localhost:8080/"
        },
        "outputId": "02fc4def-dfee-442a-bf0c-a17cd9668e3c"
      },
      "execution_count": null,
      "outputs": [
        {
          "output_type": "stream",
          "name": "stderr",
          "text": [
            "<ipython-input-3-62c5a1782f9d>:2: SettingWithCopyWarning: \n",
            "A value is trying to be set on a copy of a slice from a DataFrame.\n",
            "Try using .loc[row_indexer,col_indexer] = value instead\n",
            "\n",
            "See the caveats in the documentation: https://pandas.pydata.org/pandas-docs/stable/user_guide/indexing.html#returning-a-view-versus-a-copy\n",
            "  data['tags'] = data['overview']\n"
          ]
        }
      ]
    },
    {
      "cell_type": "markdown",
      "source": [
        "The Data being used for our Matrix are Tokenized Words from the each movies Description."
      ],
      "metadata": {
        "id": "XatQL4mPqTHg"
      }
    },
    {
      "cell_type": "code",
      "source": [
        "cv=CountVectorizer(max_features=10000, stop_words='english')\n",
        "vector=cv.fit_transform(data['tags'].values.astype('U')).toarray()\n",
        "tagsSimilarity=cosine_similarity(vector)"
      ],
      "metadata": {
        "id": "gwzmBa3ofIvt"
      },
      "execution_count": null,
      "outputs": []
    },
    {
      "cell_type": "code",
      "source": [
        "def recommend(watched, watchedHistory):\n",
        "\n",
        "    preferredGenresVector = getPreferredGenresVector(watchedHistory)\n",
        "\n",
        "    preferredGenreSimilarity = cosine_similarity([preferredGenresVector], tagsSimilarity)[0]\n",
        "\n",
        "    combinedWeightedSimilarity = (0.4 * tagsSimilarity) + (0.6 * preferredGenreSimilarity)\n",
        "\n",
        "    index=data[data['title']==watched].index[0]\n",
        "    distance = sorted(list(enumerate(combinedWeightedSimilarity[index])), reverse=True, key=lambda vector:vector[1])\n",
        "    for i in distance[1:16]:\n",
        "        print(data.iloc[i[0]].title)"
      ],
      "metadata": {
        "id": "JwYjtZNVks91"
      },
      "execution_count": null,
      "outputs": []
    },
    {
      "cell_type": "code",
      "source": [
        "def getPreferredGenresVector(watchedHistory):\n",
        "    preferredGenres = []\n",
        "    for movie in watchedHistory:\n",
        "      preferredGenres.append(data[data['title']==movie]['genre'].values)\n",
        "\n",
        "    genreText = ' '.join([str(genre[0]) for genre in preferredGenres])\n",
        "    genreVector = cv.transform([genreText]).toarray()[0]\n",
        "\n",
        "\n",
        "    return genreVector"
      ],
      "metadata": {
        "id": "Qa8W49ltm55f"
      },
      "execution_count": null,
      "outputs": []
    },
    {
      "cell_type": "markdown",
      "source": [
        "**watchHistory**: Shows Previously Watched\n",
        "\n",
        "**recommend**(*just_Watched_Show*, *watchHistory*): First parameter is the show you just watched.\n"
      ],
      "metadata": {
        "id": "B4QfcgpRmQ-I"
      }
    },
    {
      "cell_type": "code",
      "source": [
        "watchHistory = ['Your Name.', 'Spirited Away', 'Everything Everywhere All at Once', 'Singin\\' in the Rain']\n",
        "recommend('Iron Man', watchHistory)\n",
        "\n"
      ],
      "metadata": {
        "colab": {
          "base_uri": "https://localhost:8080/"
        },
        "id": "1hWPKSj_lHQd",
        "outputId": "d0df4462-27a9-44ff-a0e0-cf9d38bbc931"
      },
      "execution_count": null,
      "outputs": [
        {
          "output_type": "stream",
          "name": "stdout",
          "text": [
            "Clown\n",
            "Starry Eyes\n",
            "The Wizards Return: Alex vs. Alex\n",
            "Iron Man 2\n",
            "Operation Condor\n",
            "The Parent Trap\n",
            "Nostalgia\n",
            "The Disappearance of Alice Creed\n",
            "Iron Man 3\n",
            "G.O.R.A.\n",
            "Ugetsu\n",
            "Mortal Kombat Legends: Battle of the Realms\n",
            "The New Mutants\n",
            "Resident Evil: Extinction\n",
            "Room\n"
          ]
        }
      ]
    }
  ]
}